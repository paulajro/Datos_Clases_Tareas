{
  "nbformat": 4,
  "nbformat_minor": 0,
  "metadata": {
    "colab": {
      "name": "Tarea3_IA.ipynb",
      "provenance": [],
      "collapsed_sections": [],
      "authorship_tag": "ABX9TyPRj7JmOnCzgSw9JRw6Qrh+",
      "include_colab_link": true
    },
    "kernelspec": {
      "name": "python3",
      "display_name": "Python 3"
    },
    "language_info": {
      "name": "python"
    }
  },
  "cells": [
    {
      "cell_type": "markdown",
      "metadata": {
        "id": "view-in-github",
        "colab_type": "text"
      },
      "source": [
        "<a href=\"https://colab.research.google.com/github/paulajro/Datos_Clases_Tareas/blob/main/Tarea3_IA.ipynb\" target=\"_parent\"><img src=\"https://colab.research.google.com/assets/colab-badge.svg\" alt=\"Open In Colab\"/></a>"
      ]
    },
    {
      "cell_type": "markdown",
      "metadata": {
        "id": "63v44eUw5OM_"
      },
      "source": [
        "Paula Romero Tarea 3 IA\n",
        "\n",
        "Ejemplo Boxplot\n",
        "\n",
        "Referencias:\n",
        "\n",
        "https://www.delftstack.com/howto/matplotlib/matplotlib-boxplot-python/\n",
        "https://med.unne.edu.ar/sitio/multimedia/imagenes/ckfinder/files/files/aps/GR%C3%81FICO%20DE%20CAJA.pdf\n",
        "https://www.pgconocimiento.com/diagrama-boxplot/#:~:text=El%20Diagrama%20de%20Caja%20y,valores%20at%C3%ADpicos%20y%20comparar%20distribuciones.\n"
      ]
    },
    {
      "cell_type": "code",
      "metadata": {
        "id": "GyUlNBlq47Zp"
      },
      "source": [
        "import matplotlib.pyplot as plt"
      ],
      "execution_count": null,
      "outputs": []
    },
    {
      "cell_type": "markdown",
      "metadata": {
        "id": "whA58Oa45hus"
      },
      "source": [
        "boxplot 1"
      ]
    },
    {
      "cell_type": "code",
      "metadata": {
        "id": "Uxkt6G4M5D1t"
      },
      "source": [
        "x=[4,5,6,8,9,10,10,11,11,12,13,14,15,15,15,17,18,19,22,23,25]"
      ],
      "execution_count": null,
      "outputs": []
    },
    {
      "cell_type": "code",
      "metadata": {
        "colab": {
          "base_uri": "https://localhost:8080/",
          "height": 281
        },
        "id": "Qsu9Mb5k5VkQ",
        "outputId": "91618dc7-01af-4080-c116-79efef410fad"
      },
      "source": [
        "plt.boxplot(x)\n",
        "plt.title(\"Boxplot Using Matplotlib\")\n",
        "plt.show()"
      ],
      "execution_count": null,
      "outputs": [
        {
          "output_type": "display_data",
          "data": {
            "image/png": "[encoded data removed]",
            "text/plain": [
              "<Figure size 432x288 with 1 Axes>"
            ]
          },
          "metadata": {
            "needs_background": "light"
          }
        }
      ]
    },
    {
      "cell_type": "markdown",
      "metadata": {
        "id": "ANUpS_nC5vnG"
      },
      "source": [
        "boxplot 2 (con atipicos)"
      ]
    },
    {
      "cell_type": "code",
      "metadata": {
        "id": "qxgrIQRu5xCf"
      },
      "source": [
        "y=[1,4,5,6,8,9,10,10,11,11,12,12,13,14,15,15,15,17,18,18,19,22,23,25,30,33,35]"
      ],
      "execution_count": null,
      "outputs": []
    },
    {
      "cell_type": "code",
      "metadata": {
        "colab": {
          "base_uri": "https://localhost:8080/",
          "height": 281
        },
        "id": "ANOptxgC58rC",
        "outputId": "e78465ba-d721-4027-aadc-b863a811184e"
      },
      "source": [
        "plt.boxplot(y)\n",
        "plt.title(\"Boxplot Using Matplotlib\")\n",
        "plt.show()"
      ],
      "execution_count": null,
      "outputs": [
        {
          "output_type": "display_data",
          "data": {
            "image/png": "[encoded data removed]",
            "text/plain": [
              "<Figure size 432x288 with 1 Axes>"
            ]
          },
          "metadata": {
            "needs_background": "light"
          }
        }
      ]
    },
    {
      "cell_type": "markdown",
      "metadata": {
        "id": "6NeRucoG6N4a"
      },
      "source": [
        "boxplot 3"
      ]
    },
    {
      "cell_type": "code",
      "metadata": {
        "id": "NdS0K8gu6GVm"
      },
      "source": [
        "import numpy as np"
      ],
      "execution_count": null,
      "outputs": []
    },
    {
      "cell_type": "code",
      "metadata": {
        "id": "CcBKWEJ36PoQ"
      },
      "source": [
        "np.random.seed(100)"
      ],
      "execution_count": null,
      "outputs": []
    },
    {
      "cell_type": "code",
      "metadata": {
        "id": "N7efN1pD6SPH"
      },
      "source": [
        "data_a =np.random.randint(2,15, size=15) \n",
        "data_b =np.random.randint(5,18, size=20) \n",
        "data_c =np.random.randint(2,20, size=30) \n",
        "data_d =np.random.randint(1,30, size=40) \n"
      ],
      "execution_count": null,
      "outputs": []
    },
    {
      "cell_type": "code",
      "metadata": {
        "id": "XFthkU_W6Wfg"
      },
      "source": [
        "data_2d=[data_a,data_b,data_c,data_d]"
      ],
      "execution_count": null,
      "outputs": []
    },
    {
      "cell_type": "code",
      "metadata": {
        "colab": {
          "base_uri": "https://localhost:8080/",
          "height": 336
        },
        "id": "xYD8eo-F6Zxu",
        "outputId": "f784d5db-753f-4cc5-d333-2f048618965d"
      },
      "source": [
        "plt.boxplot(data_2d)\n",
        "plt.title(\"Boxplot Using Matplotlib\")\n",
        "plt.show()"
      ],
      "execution_count": null,
      "outputs": [
        {
          "output_type": "stream",
          "name": "stderr",
          "text": [
            "/usr/local/lib/python3.7/dist-packages/numpy/core/_asarray.py:83: VisibleDeprecationWarning: Creating an ndarray from ragged nested sequences (which is a list-or-tuple of lists-or-tuples-or ndarrays with different lengths or shapes) is deprecated. If you meant to do this, you must specify 'dtype=object' when creating the ndarray\n",
            "  return array(a, dtype, copy=False, order=order)\n"
          ]
        },
        {
          "output_type": "display_data",
          "data": {
            "image/png": "[encoded data removed]",
            "text/plain": [
              "<Figure size 432x288 with 1 Axes>"
            ]
          },
          "metadata": {
            "needs_background": "light"
          }
        }
      ]
    }
  ]
}