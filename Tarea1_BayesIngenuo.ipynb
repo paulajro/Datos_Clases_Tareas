{
  "nbformat": 4,
  "nbformat_minor": 0,
  "metadata": {
    "colab": {
      "name": "Tarea1_BayesIngenuo",
      "provenance": [],
      "collapsed_sections": [],
      "authorship_tag": "ABX9TyPDyknlB8urV2CmI4t53TyZ",
      "include_colab_link": true
    },
    "kernelspec": {
      "name": "python3",
      "display_name": "Python 3"
    },
    "language_info": {
      "name": "python"
    }
  },
  "cells": [
    {
      "cell_type": "markdown",
      "metadata": {
        "id": "view-in-github",
        "colab_type": "text"
      },
      "source": [
        "<a href=\"https://colab.research.google.com/github/paulajro/Datos_Clases_Tareas/blob/main/Tarea1_BayesIngenuo.ipynb\" target=\"_parent\"><img src=\"https://colab.research.google.com/assets/colab-badge.svg\" alt=\"Open In Colab\"/></a>"
      ]
    },
    {
      "cell_type": "markdown",
      "metadata": {
        "id": "9QAHZVI9g519"
      },
      "source": [
        "Curso de Inteligencia Artificial\n",
        "Universidad Austral de Chile, año 2021.\n",
        "\n",
        "Tarea aplicacon Bayes Ingenuo\n",
        "\n",
        "Fuente: https://www.aprendemachinelearning.com/comprar-casa-o-alquilar-naive-bayes-usando-python/\n",
        "\n",
        "Adaptación. Paula Romero\n",
        "\n",
        "Refencias datos:\n",
        "* https://medlineplus.gov/spanish/ency/article/001927.htm\n",
        "* https://www.mayoclinic.org/es-es/symptoms/hypoxemia/basics/definition/sym-20050930\n",
        "* https://www.heart.org/-/media/files/health-topics/answers-by-heart/answers-by-heart-spanish/what-is-highbloodpressure_span.pdf\n",
        "* https://www.salud.mapfre.es/enfermedades/reportajes-enfermedades/temperatura-fiebre/\n",
        "* https://www.mayoclinic.org/es-es/diseases-conditions/hypothermia/symptoms-causes/syc-20352682"
      ]
    },
    {
      "cell_type": "markdown",
      "metadata": {
        "id": "Np7ptXBRhFhb"
      },
      "source": [
        "# Librerias Requeridas"
      ]
    },
    {
      "cell_type": "code",
      "metadata": {
        "id": "guFFaSJ6gfP7"
      },
      "source": [
        "#Carga de Librerias\n",
        "import pandas as pd\n",
        "import numpy as np\n",
        "import matplotlib.pyplot as plt\n",
        "from matplotlib import colors\n",
        "import seaborn as sb\n",
        "\n",
        "%matplotlib inline\n",
        "plt.rcParams['figure.figsize'] = (16, 9)\n",
        "plt.style.use('ggplot')\n",
        "\n",
        "from sklearn.model_selection import train_test_split\n",
        "from sklearn.metrics import classification_report\n",
        "from sklearn.metrics import confusion_matrix\n",
        "from sklearn.naive_bayes import GaussianNB\n",
        "from sklearn.feature_selection import SelectKBest"
      ],
      "execution_count": 1,
      "outputs": []
    },
    {
      "cell_type": "markdown",
      "metadata": {
        "id": "n7NOIQPPm-g5"
      },
      "source": [
        "# Carga de Datos"
      ]
    },
    {
      "cell_type": "code",
      "metadata": {
        "colab": {
          "base_uri": "https://localhost:8080/"
        },
        "id": "Db-SAM1SnAs4",
        "outputId": "ea68dde7-d3c4-476a-ea24-75288ba13bb2"
      },
      "source": [
        "# Se emple la función wget que permita bajar al espacio de trabajo los datos para análisis\n",
        "!wget --no-check-certificate --content-disposition https://raw.githubusercontent.com/paulajro/Datos_Clases_Tareas/main/Datos_NaiveBayes_T1.csv\n",
        "\n"
      ],
      "execution_count": 2,
      "outputs": [
        {
          "output_type": "stream",
          "name": "stdout",
          "text": [
            "--2021-09-13 20:59:39--  https://raw.githubusercontent.com/paulajro/Datos_Clases_Tareas/main/Datos_NaiveBayes_T1.csv\n",
            "Resolving raw.githubusercontent.com (raw.githubusercontent.com)... 185.199.108.133, 185.199.109.133, 185.199.110.133, ...\n",
            "Connecting to raw.githubusercontent.com (raw.githubusercontent.com)|185.199.108.133|:443... connected.\n",
            "HTTP request sent, awaiting response... 200 OK\n",
            "Length: 6354 (6.2K) [text/plain]\n",
            "Saving to: ‘Datos_NaiveBayes_T1.csv’\n",
            "\n",
            "\rDatos_NaiveBayes_T1   0%[                    ]       0  --.-KB/s               \rDatos_NaiveBayes_T1 100%[===================>]   6.21K  --.-KB/s    in 0s      \n",
            "\n",
            "2021-09-13 20:59:39 (66.7 MB/s) - ‘Datos_NaiveBayes_T1.csv’ saved [6354/6354]\n",
            "\n"
          ]
        }
      ]
    },
    {
      "cell_type": "code",
      "metadata": {
        "colab": {
          "base_uri": "https://localhost:8080/",
          "height": 363
        },
        "id": "RrZQtQ8SnU1y",
        "outputId": "25eabc58-8970-446f-81cf-87d0736deaf1"
      },
      "source": [
        "# Utilizando pandas, se carga archivo en memoria como dataframe\n",
        "df = pd.read_csv(\"Datos_NaiveBayes_T1.csv\")\n",
        "df.head(10)"
      ],
      "execution_count": 3,
      "outputs": [
        {
          "output_type": "execute_result",
          "data": {
            "text/html": [
              "<div>\n",
              "<style scoped>\n",
              "    .dataframe tbody tr th:only-of-type {\n",
              "        vertical-align: middle;\n",
              "    }\n",
              "\n",
              "    .dataframe tbody tr th {\n",
              "        vertical-align: top;\n",
              "    }\n",
              "\n",
              "    .dataframe thead th {\n",
              "        text-align: right;\n",
              "    }\n",
              "</style>\n",
              "<table border=\"1\" class=\"dataframe\">\n",
              "  <thead>\n",
              "    <tr style=\"text-align: right;\">\n",
              "      <th></th>\n",
              "      <th>edad</th>\n",
              "      <th>dolor</th>\n",
              "      <th>horas_espera</th>\n",
              "      <th>oxigenacion</th>\n",
              "      <th>presion_sist</th>\n",
              "      <th>presion_diast</th>\n",
              "      <th>temperatura</th>\n",
              "      <th>conciencia</th>\n",
              "      <th>sangrado</th>\n",
              "      <th>accidente</th>\n",
              "      <th>atencion</th>\n",
              "    </tr>\n",
              "  </thead>\n",
              "  <tbody>\n",
              "    <tr>\n",
              "      <th>0</th>\n",
              "      <td>4</td>\n",
              "      <td>7</td>\n",
              "      <td>3</td>\n",
              "      <td>96</td>\n",
              "      <td>142</td>\n",
              "      <td>79</td>\n",
              "      <td>36.2</td>\n",
              "      <td>1</td>\n",
              "      <td>0</td>\n",
              "      <td>0</td>\n",
              "      <td>1</td>\n",
              "    </tr>\n",
              "    <tr>\n",
              "      <th>1</th>\n",
              "      <td>56</td>\n",
              "      <td>1</td>\n",
              "      <td>2</td>\n",
              "      <td>93</td>\n",
              "      <td>111</td>\n",
              "      <td>87</td>\n",
              "      <td>35.4</td>\n",
              "      <td>0</td>\n",
              "      <td>1</td>\n",
              "      <td>1</td>\n",
              "      <td>1</td>\n",
              "    </tr>\n",
              "    <tr>\n",
              "      <th>2</th>\n",
              "      <td>52</td>\n",
              "      <td>7</td>\n",
              "      <td>3</td>\n",
              "      <td>92</td>\n",
              "      <td>105</td>\n",
              "      <td>71</td>\n",
              "      <td>33.0</td>\n",
              "      <td>1</td>\n",
              "      <td>1</td>\n",
              "      <td>0</td>\n",
              "      <td>0</td>\n",
              "    </tr>\n",
              "    <tr>\n",
              "      <th>3</th>\n",
              "      <td>4</td>\n",
              "      <td>3</td>\n",
              "      <td>3</td>\n",
              "      <td>88</td>\n",
              "      <td>150</td>\n",
              "      <td>95</td>\n",
              "      <td>36.2</td>\n",
              "      <td>1</td>\n",
              "      <td>1</td>\n",
              "      <td>0</td>\n",
              "      <td>1</td>\n",
              "    </tr>\n",
              "    <tr>\n",
              "      <th>4</th>\n",
              "      <td>65</td>\n",
              "      <td>8</td>\n",
              "      <td>1</td>\n",
              "      <td>89</td>\n",
              "      <td>120</td>\n",
              "      <td>76</td>\n",
              "      <td>36.1</td>\n",
              "      <td>1</td>\n",
              "      <td>0</td>\n",
              "      <td>1</td>\n",
              "      <td>0</td>\n",
              "    </tr>\n",
              "    <tr>\n",
              "      <th>5</th>\n",
              "      <td>16</td>\n",
              "      <td>10</td>\n",
              "      <td>4</td>\n",
              "      <td>86</td>\n",
              "      <td>158</td>\n",
              "      <td>96</td>\n",
              "      <td>37.8</td>\n",
              "      <td>1</td>\n",
              "      <td>0</td>\n",
              "      <td>1</td>\n",
              "      <td>1</td>\n",
              "    </tr>\n",
              "    <tr>\n",
              "      <th>6</th>\n",
              "      <td>87</td>\n",
              "      <td>4</td>\n",
              "      <td>3</td>\n",
              "      <td>96</td>\n",
              "      <td>124</td>\n",
              "      <td>89</td>\n",
              "      <td>36.0</td>\n",
              "      <td>0</td>\n",
              "      <td>1</td>\n",
              "      <td>0</td>\n",
              "      <td>1</td>\n",
              "    </tr>\n",
              "    <tr>\n",
              "      <th>7</th>\n",
              "      <td>51</td>\n",
              "      <td>8</td>\n",
              "      <td>5</td>\n",
              "      <td>94</td>\n",
              "      <td>143</td>\n",
              "      <td>61</td>\n",
              "      <td>33.1</td>\n",
              "      <td>0</td>\n",
              "      <td>0</td>\n",
              "      <td>1</td>\n",
              "      <td>1</td>\n",
              "    </tr>\n",
              "    <tr>\n",
              "      <th>8</th>\n",
              "      <td>15</td>\n",
              "      <td>7</td>\n",
              "      <td>5</td>\n",
              "      <td>99</td>\n",
              "      <td>158</td>\n",
              "      <td>74</td>\n",
              "      <td>39.0</td>\n",
              "      <td>0</td>\n",
              "      <td>0</td>\n",
              "      <td>0</td>\n",
              "      <td>1</td>\n",
              "    </tr>\n",
              "    <tr>\n",
              "      <th>9</th>\n",
              "      <td>71</td>\n",
              "      <td>2</td>\n",
              "      <td>1</td>\n",
              "      <td>99</td>\n",
              "      <td>99</td>\n",
              "      <td>63</td>\n",
              "      <td>39.1</td>\n",
              "      <td>0</td>\n",
              "      <td>0</td>\n",
              "      <td>0</td>\n",
              "      <td>1</td>\n",
              "    </tr>\n",
              "  </tbody>\n",
              "</table>\n",
              "</div>"
            ],
            "text/plain": [
              "   edad  dolor  horas_espera  ...  sangrado  accidente  atencion\n",
              "0     4      7             3  ...         0          0         1\n",
              "1    56      1             2  ...         1          1         1\n",
              "2    52      7             3  ...         1          0         0\n",
              "3     4      3             3  ...         1          0         1\n",
              "4    65      8             1  ...         0          1         0\n",
              "5    16     10             4  ...         0          1         1\n",
              "6    87      4             3  ...         1          0         1\n",
              "7    51      8             5  ...         0          1         1\n",
              "8    15      7             5  ...         0          0         1\n",
              "9    71      2             1  ...         0          0         1\n",
              "\n",
              "[10 rows x 11 columns]"
            ]
          },
          "metadata": {},
          "execution_count": 3
        }
      ]
    },
    {
      "cell_type": "code",
      "metadata": {
        "colab": {
          "base_uri": "https://localhost:8080/",
          "height": 363
        },
        "id": "UX6cUrzNpjca",
        "outputId": "e9a13070-8c59-4c93-d99d-9d1c28c70f36"
      },
      "source": [
        "df.tail(10)"
      ],
      "execution_count": 4,
      "outputs": [
        {
          "output_type": "execute_result",
          "data": {
            "text/html": [
              "<div>\n",
              "<style scoped>\n",
              "    .dataframe tbody tr th:only-of-type {\n",
              "        vertical-align: middle;\n",
              "    }\n",
              "\n",
              "    .dataframe tbody tr th {\n",
              "        vertical-align: top;\n",
              "    }\n",
              "\n",
              "    .dataframe thead th {\n",
              "        text-align: right;\n",
              "    }\n",
              "</style>\n",
              "<table border=\"1\" class=\"dataframe\">\n",
              "  <thead>\n",
              "    <tr style=\"text-align: right;\">\n",
              "      <th></th>\n",
              "      <th>edad</th>\n",
              "      <th>dolor</th>\n",
              "      <th>horas_espera</th>\n",
              "      <th>oxigenacion</th>\n",
              "      <th>presion_sist</th>\n",
              "      <th>presion_diast</th>\n",
              "      <th>temperatura</th>\n",
              "      <th>conciencia</th>\n",
              "      <th>sangrado</th>\n",
              "      <th>accidente</th>\n",
              "      <th>atencion</th>\n",
              "    </tr>\n",
              "  </thead>\n",
              "  <tbody>\n",
              "    <tr>\n",
              "      <th>192</th>\n",
              "      <td>87</td>\n",
              "      <td>7</td>\n",
              "      <td>1</td>\n",
              "      <td>98</td>\n",
              "      <td>133</td>\n",
              "      <td>85</td>\n",
              "      <td>38.4</td>\n",
              "      <td>0</td>\n",
              "      <td>0</td>\n",
              "      <td>0</td>\n",
              "      <td>0</td>\n",
              "    </tr>\n",
              "    <tr>\n",
              "      <th>193</th>\n",
              "      <td>64</td>\n",
              "      <td>2</td>\n",
              "      <td>5</td>\n",
              "      <td>100</td>\n",
              "      <td>128</td>\n",
              "      <td>69</td>\n",
              "      <td>37.6</td>\n",
              "      <td>0</td>\n",
              "      <td>1</td>\n",
              "      <td>1</td>\n",
              "      <td>1</td>\n",
              "    </tr>\n",
              "    <tr>\n",
              "      <th>194</th>\n",
              "      <td>63</td>\n",
              "      <td>4</td>\n",
              "      <td>2</td>\n",
              "      <td>89</td>\n",
              "      <td>146</td>\n",
              "      <td>70</td>\n",
              "      <td>35.2</td>\n",
              "      <td>1</td>\n",
              "      <td>1</td>\n",
              "      <td>1</td>\n",
              "      <td>0</td>\n",
              "    </tr>\n",
              "    <tr>\n",
              "      <th>195</th>\n",
              "      <td>59</td>\n",
              "      <td>1</td>\n",
              "      <td>4</td>\n",
              "      <td>91</td>\n",
              "      <td>118</td>\n",
              "      <td>78</td>\n",
              "      <td>33.9</td>\n",
              "      <td>0</td>\n",
              "      <td>0</td>\n",
              "      <td>1</td>\n",
              "      <td>0</td>\n",
              "    </tr>\n",
              "    <tr>\n",
              "      <th>196</th>\n",
              "      <td>3</td>\n",
              "      <td>3</td>\n",
              "      <td>2</td>\n",
              "      <td>100</td>\n",
              "      <td>91</td>\n",
              "      <td>91</td>\n",
              "      <td>37.8</td>\n",
              "      <td>1</td>\n",
              "      <td>1</td>\n",
              "      <td>1</td>\n",
              "      <td>0</td>\n",
              "    </tr>\n",
              "    <tr>\n",
              "      <th>197</th>\n",
              "      <td>89</td>\n",
              "      <td>1</td>\n",
              "      <td>0</td>\n",
              "      <td>98</td>\n",
              "      <td>141</td>\n",
              "      <td>63</td>\n",
              "      <td>37.0</td>\n",
              "      <td>0</td>\n",
              "      <td>1</td>\n",
              "      <td>0</td>\n",
              "      <td>1</td>\n",
              "    </tr>\n",
              "    <tr>\n",
              "      <th>198</th>\n",
              "      <td>26</td>\n",
              "      <td>7</td>\n",
              "      <td>2</td>\n",
              "      <td>85</td>\n",
              "      <td>127</td>\n",
              "      <td>99</td>\n",
              "      <td>34.9</td>\n",
              "      <td>0</td>\n",
              "      <td>1</td>\n",
              "      <td>0</td>\n",
              "      <td>1</td>\n",
              "    </tr>\n",
              "    <tr>\n",
              "      <th>199</th>\n",
              "      <td>43</td>\n",
              "      <td>3</td>\n",
              "      <td>5</td>\n",
              "      <td>98</td>\n",
              "      <td>128</td>\n",
              "      <td>96</td>\n",
              "      <td>37.0</td>\n",
              "      <td>1</td>\n",
              "      <td>1</td>\n",
              "      <td>1</td>\n",
              "      <td>0</td>\n",
              "    </tr>\n",
              "    <tr>\n",
              "      <th>200</th>\n",
              "      <td>75</td>\n",
              "      <td>7</td>\n",
              "      <td>2</td>\n",
              "      <td>97</td>\n",
              "      <td>118</td>\n",
              "      <td>95</td>\n",
              "      <td>36.0</td>\n",
              "      <td>0</td>\n",
              "      <td>1</td>\n",
              "      <td>1</td>\n",
              "      <td>1</td>\n",
              "    </tr>\n",
              "    <tr>\n",
              "      <th>201</th>\n",
              "      <td>15</td>\n",
              "      <td>7</td>\n",
              "      <td>4</td>\n",
              "      <td>99</td>\n",
              "      <td>106</td>\n",
              "      <td>89</td>\n",
              "      <td>36.0</td>\n",
              "      <td>1</td>\n",
              "      <td>0</td>\n",
              "      <td>1</td>\n",
              "      <td>0</td>\n",
              "    </tr>\n",
              "  </tbody>\n",
              "</table>\n",
              "</div>"
            ],
            "text/plain": [
              "     edad  dolor  horas_espera  ...  sangrado  accidente  atencion\n",
              "192    87      7             1  ...         0          0         0\n",
              "193    64      2             5  ...         1          1         1\n",
              "194    63      4             2  ...         1          1         0\n",
              "195    59      1             4  ...         0          1         0\n",
              "196     3      3             2  ...         1          1         0\n",
              "197    89      1             0  ...         1          0         1\n",
              "198    26      7             2  ...         1          0         1\n",
              "199    43      3             5  ...         1          1         0\n",
              "200    75      7             2  ...         1          1         1\n",
              "201    15      7             4  ...         0          1         0\n",
              "\n",
              "[10 rows x 11 columns]"
            ]
          },
          "metadata": {},
          "execution_count": 4
        }
      ]
    },
    {
      "cell_type": "markdown",
      "metadata": {
        "id": "Ru3Ya9l-JoMH"
      },
      "source": [
        "# Datos"
      ]
    },
    {
      "cell_type": "markdown",
      "metadata": {
        "id": "-tuHf1gBJp5q"
      },
      "source": [
        "Las columnas que tenemos son:\n",
        "*   edad: la edad del paciente que llega a urgencias\n",
        "*   dolor: el nivel del dolor del paciente. en una escala del 1-10\n",
        "*   horas_espera: la cantidad de horas que lleva esperando el paciente\n",
        "*   oxigenacion: el porcentaje de oxigencion del paciente\n",
        "*   presion_sist: la presion sistolica del paciente\n",
        "*   presion_diast: la presion diastolica del paciente\n",
        "*   temperatura: la temperatura del paciente\n",
        "*   conciencia: si el paciente esta conciente o inconciente 0:no 1:si\n",
        "*   sangrado: si el paciente esta sangrando o no 0:no 1:si\n",
        "*   accidente: si el paciente viene de un accidente en ambulancia 0:no 1:si\n",
        "*   atencion: indica si el paciente debe ser atendido inmediatamente o puede seguir esperando 0:espera 1:inmediato (esta sera la columna de salida, para aprender)\n",
        "\n",
        "Algunos supuestos:\n",
        "\n",
        "Se consideraron estos atributos debido a que son mencionados como \"clave\" segun algunos profesionales de la salud y se encuentran dentro de la informacion recopilada en la referencia\n",
        "\n",
        "Para generar los datos se consideraron los siguientes intervalos de los atributos y sus rangos normales:\n",
        "* oxigenacion: 85 - 100 [mm Hg] - Normal: 95-100\n",
        "* presion_sist: 90 - 160 [mm Hg] - Normal: <120\n",
        "* presion_diast: 60 - 100 [mm Hg] - Normal: <80 \n",
        "* temperatura: 33 - 40 [°C] - Normal: 36-37\n",
        "\n"
      ]
    },
    {
      "cell_type": "markdown",
      "metadata": {
        "id": "QjVfsiP3LAZJ"
      },
      "source": [
        "# Visualizacion de datos"
      ]
    },
    {
      "cell_type": "code",
      "metadata": {
        "colab": {
          "base_uri": "https://localhost:8080/"
        },
        "id": "XHXnJeyZ9arG",
        "outputId": "caf7cff0-e943-4c5b-c04f-b73345036ecb"
      },
      "source": [
        "print(df.groupby('atencion').size())"
      ],
      "execution_count": 5,
      "outputs": [
        {
          "output_type": "stream",
          "name": "stdout",
          "text": [
            "atencion\n",
            "0     83\n",
            "1    119\n",
            "dtype: int64\n"
          ]
        }
      ]
    },
    {
      "cell_type": "markdown",
      "metadata": {
        "id": "kcYzsV_w9tGY"
      },
      "source": [
        "En 83 de las entradas el paciente puede continuar esperando y 119 requieren atención inmediata."
      ]
    },
    {
      "cell_type": "code",
      "metadata": {
        "colab": {
          "base_uri": "https://localhost:8080/",
          "height": 507
        },
        "id": "REKYHyTV9oOO",
        "outputId": "b5857d1a-fda7-472e-f18c-9f68faeb6e69"
      },
      "source": [
        "df.hist()"
      ],
      "execution_count": 6,
      "outputs": [
        {
          "output_type": "execute_result",
          "data": {
            "text/plain": [
              "array([[<matplotlib.axes._subplots.AxesSubplot object at 0x7fdc7189ab90>,\n",
              "        <matplotlib.axes._subplots.AxesSubplot object at 0x7fdc71854a10>,\n",
              "        <matplotlib.axes._subplots.AxesSubplot object at 0x7fdc718190d0>],\n",
              "       [<matplotlib.axes._subplots.AxesSubplot object at 0x7fdc717d0750>,\n",
              "        <matplotlib.axes._subplots.AxesSubplot object at 0x7fdc71808dd0>,\n",
              "        <matplotlib.axes._subplots.AxesSubplot object at 0x7fdc717c6490>],\n",
              "       [<matplotlib.axes._subplots.AxesSubplot object at 0x7fdc7177cb10>,\n",
              "        <matplotlib.axes._subplots.AxesSubplot object at 0x7fdc7187f250>,\n",
              "        <matplotlib.axes._subplots.AxesSubplot object at 0x7fdc7176be90>],\n",
              "       [<matplotlib.axes._subplots.AxesSubplot object at 0x7fdc717059d0>,\n",
              "        <matplotlib.axes._subplots.AxesSubplot object at 0x7fdc7165fd90>,\n",
              "        <matplotlib.axes._subplots.AxesSubplot object at 0x7fdc71621450>]],\n",
              "      dtype=object)"
            ]
          },
          "metadata": {},
          "execution_count": 6
        },
        {
          "output_type": "display_data",
          "data": {
            "image/png": "[encoded data removed]",
            "text/plain": [
              "<Figure size 432x288 with 12 Axes>"
            ]
          },
          "metadata": {
            "needs_background": "light"
          }
        }
      ]
    },
    {
      "cell_type": "markdown",
      "metadata": {
        "id": "_RefCGfy-W0g"
      },
      "source": [
        "Los atributos \"conciencia\", \"sangrado\" y \"accidente\" tienen valores 0 o 1\n",
        "\n",
        "El atributo temperatura presenta una distribución normal clara (debido a que así se generaron los datos).\n",
        "\n",
        "Recordar que el algoritmo NaiveBayes asume que los datos son independientees entre sí y se comportan como una distribución normal "
      ]
    },
    {
      "cell_type": "code",
      "metadata": {
        "colab": {
          "base_uri": "https://localhost:8080/",
          "height": 282
        },
        "id": "B2pNkQy7-PIE",
        "outputId": "d7169704-2910-4c64-e1ff-f9ff595613d0"
      },
      "source": [
        "df.drop(['atencion'], axis=1).hist()\n",
        "plt.show()"
      ],
      "execution_count": 7,
      "outputs": [
        {
          "output_type": "display_data",
          "data": {
            "image/png": "[encoded data removed]",
            "text/plain": [
              "<Figure size 432x288 with 12 Axes>"
            ]
          },
          "metadata": {
            "needs_background": "light"
          }
        }
      ]
    },
    {
      "cell_type": "markdown",
      "metadata": {
        "id": "3UJYFw2j_0rp"
      },
      "source": [
        "Resumenes estadísticos (sin salida y sin \"dolor\")"
      ]
    },
    {
      "cell_type": "code",
      "metadata": {
        "colab": {
          "base_uri": "https://localhost:8080/",
          "height": 300
        },
        "id": "QU9y6mTKAbk9",
        "outputId": "2efe72dc-b586-4c3f-e1f9-350ea9560823"
      },
      "source": [
        "#df1 NO contiene la salida (atencion)\n",
        "df1 = df.drop(['atencion'], axis=1)\n",
        "df1.describe()"
      ],
      "execution_count": 9,
      "outputs": [
        {
          "output_type": "execute_result",
          "data": {
            "text/html": [
              "<div>\n",
              "<style scoped>\n",
              "    .dataframe tbody tr th:only-of-type {\n",
              "        vertical-align: middle;\n",
              "    }\n",
              "\n",
              "    .dataframe tbody tr th {\n",
              "        vertical-align: top;\n",
              "    }\n",
              "\n",
              "    .dataframe thead th {\n",
              "        text-align: right;\n",
              "    }\n",
              "</style>\n",
              "<table border=\"1\" class=\"dataframe\">\n",
              "  <thead>\n",
              "    <tr style=\"text-align: right;\">\n",
              "      <th></th>\n",
              "      <th>edad</th>\n",
              "      <th>dolor</th>\n",
              "      <th>horas_espera</th>\n",
              "      <th>oxigenacion</th>\n",
              "      <th>presion_sist</th>\n",
              "      <th>presion_diast</th>\n",
              "      <th>temperatura</th>\n",
              "      <th>conciencia</th>\n",
              "      <th>sangrado</th>\n",
              "      <th>accidente</th>\n",
              "    </tr>\n",
              "  </thead>\n",
              "  <tbody>\n",
              "    <tr>\n",
              "      <th>count</th>\n",
              "      <td>202.000000</td>\n",
              "      <td>202.000000</td>\n",
              "      <td>202.000000</td>\n",
              "      <td>202.000000</td>\n",
              "      <td>202.000000</td>\n",
              "      <td>202.000000</td>\n",
              "      <td>202.000000</td>\n",
              "      <td>202.000000</td>\n",
              "      <td>202.000000</td>\n",
              "      <td>202.000000</td>\n",
              "    </tr>\n",
              "    <tr>\n",
              "      <th>mean</th>\n",
              "      <td>42.717822</td>\n",
              "      <td>4.975248</td>\n",
              "      <td>2.455446</td>\n",
              "      <td>92.792079</td>\n",
              "      <td>125.138614</td>\n",
              "      <td>79.628713</td>\n",
              "      <td>36.946535</td>\n",
              "      <td>0.470297</td>\n",
              "      <td>0.490099</td>\n",
              "      <td>0.514851</td>\n",
              "    </tr>\n",
              "    <tr>\n",
              "      <th>std</th>\n",
              "      <td>27.067165</td>\n",
              "      <td>3.045980</td>\n",
              "      <td>1.710516</td>\n",
              "      <td>4.722797</td>\n",
              "      <td>20.504595</td>\n",
              "      <td>11.959541</td>\n",
              "      <td>1.452297</td>\n",
              "      <td>0.500357</td>\n",
              "      <td>0.501144</td>\n",
              "      <td>0.501021</td>\n",
              "    </tr>\n",
              "    <tr>\n",
              "      <th>min</th>\n",
              "      <td>0.000000</td>\n",
              "      <td>0.000000</td>\n",
              "      <td>0.000000</td>\n",
              "      <td>85.000000</td>\n",
              "      <td>90.000000</td>\n",
              "      <td>60.000000</td>\n",
              "      <td>33.000000</td>\n",
              "      <td>0.000000</td>\n",
              "      <td>0.000000</td>\n",
              "      <td>0.000000</td>\n",
              "    </tr>\n",
              "    <tr>\n",
              "      <th>25%</th>\n",
              "      <td>20.000000</td>\n",
              "      <td>3.000000</td>\n",
              "      <td>1.000000</td>\n",
              "      <td>89.000000</td>\n",
              "      <td>106.250000</td>\n",
              "      <td>70.000000</td>\n",
              "      <td>36.000000</td>\n",
              "      <td>0.000000</td>\n",
              "      <td>0.000000</td>\n",
              "      <td>0.000000</td>\n",
              "    </tr>\n",
              "    <tr>\n",
              "      <th>50%</th>\n",
              "      <td>43.500000</td>\n",
              "      <td>5.000000</td>\n",
              "      <td>2.000000</td>\n",
              "      <td>93.000000</td>\n",
              "      <td>126.000000</td>\n",
              "      <td>79.000000</td>\n",
              "      <td>36.900000</td>\n",
              "      <td>0.000000</td>\n",
              "      <td>0.000000</td>\n",
              "      <td>1.000000</td>\n",
              "    </tr>\n",
              "    <tr>\n",
              "      <th>75%</th>\n",
              "      <td>64.000000</td>\n",
              "      <td>7.000000</td>\n",
              "      <td>4.000000</td>\n",
              "      <td>97.000000</td>\n",
              "      <td>142.750000</td>\n",
              "      <td>90.000000</td>\n",
              "      <td>37.875000</td>\n",
              "      <td>1.000000</td>\n",
              "      <td>1.000000</td>\n",
              "      <td>1.000000</td>\n",
              "    </tr>\n",
              "    <tr>\n",
              "      <th>max</th>\n",
              "      <td>89.000000</td>\n",
              "      <td>10.000000</td>\n",
              "      <td>5.000000</td>\n",
              "      <td>100.000000</td>\n",
              "      <td>160.000000</td>\n",
              "      <td>100.000000</td>\n",
              "      <td>40.400000</td>\n",
              "      <td>1.000000</td>\n",
              "      <td>1.000000</td>\n",
              "      <td>1.000000</td>\n",
              "    </tr>\n",
              "  </tbody>\n",
              "</table>\n",
              "</div>"
            ],
            "text/plain": [
              "             edad       dolor  horas_espera  ...  conciencia    sangrado   accidente\n",
              "count  202.000000  202.000000    202.000000  ...  202.000000  202.000000  202.000000\n",
              "mean    42.717822    4.975248      2.455446  ...    0.470297    0.490099    0.514851\n",
              "std     27.067165    3.045980      1.710516  ...    0.500357    0.501144    0.501021\n",
              "min      0.000000    0.000000      0.000000  ...    0.000000    0.000000    0.000000\n",
              "25%     20.000000    3.000000      1.000000  ...    0.000000    0.000000    0.000000\n",
              "50%     43.500000    5.000000      2.000000  ...    0.000000    0.000000    1.000000\n",
              "75%     64.000000    7.000000      4.000000  ...    1.000000    1.000000    1.000000\n",
              "max     89.000000   10.000000      5.000000  ...    1.000000    1.000000    1.000000\n",
              "\n",
              "[8 rows x 10 columns]"
            ]
          },
          "metadata": {},
          "execution_count": 9
        }
      ]
    },
    {
      "cell_type": "code",
      "metadata": {
        "colab": {
          "base_uri": "https://localhost:8080/",
          "height": 300
        },
        "id": "4pYbjkpj-kYw",
        "outputId": "86452267-4838-446e-db72-0e0245e1e4dd"
      },
      "source": [
        "#reduced NO contiene la salidad (atencion) ni el atributo \"dolor\"\n",
        "reduced = df1.drop(['dolor'], axis=1)\n",
        "reduced.describe()"
      ],
      "execution_count": 10,
      "outputs": [
        {
          "output_type": "execute_result",
          "data": {
            "text/html": [
              "<div>\n",
              "<style scoped>\n",
              "    .dataframe tbody tr th:only-of-type {\n",
              "        vertical-align: middle;\n",
              "    }\n",
              "\n",
              "    .dataframe tbody tr th {\n",
              "        vertical-align: top;\n",
              "    }\n",
              "\n",
              "    .dataframe thead th {\n",
              "        text-align: right;\n",
              "    }\n",
              "</style>\n",
              "<table border=\"1\" class=\"dataframe\">\n",
              "  <thead>\n",
              "    <tr style=\"text-align: right;\">\n",
              "      <th></th>\n",
              "      <th>edad</th>\n",
              "      <th>horas_espera</th>\n",
              "      <th>oxigenacion</th>\n",
              "      <th>presion_sist</th>\n",
              "      <th>presion_diast</th>\n",
              "      <th>temperatura</th>\n",
              "      <th>conciencia</th>\n",
              "      <th>sangrado</th>\n",
              "      <th>accidente</th>\n",
              "    </tr>\n",
              "  </thead>\n",
              "  <tbody>\n",
              "    <tr>\n",
              "      <th>count</th>\n",
              "      <td>202.000000</td>\n",
              "      <td>202.000000</td>\n",
              "      <td>202.000000</td>\n",
              "      <td>202.000000</td>\n",
              "      <td>202.000000</td>\n",
              "      <td>202.000000</td>\n",
              "      <td>202.000000</td>\n",
              "      <td>202.000000</td>\n",
              "      <td>202.000000</td>\n",
              "    </tr>\n",
              "    <tr>\n",
              "      <th>mean</th>\n",
              "      <td>42.717822</td>\n",
              "      <td>2.455446</td>\n",
              "      <td>92.792079</td>\n",
              "      <td>125.138614</td>\n",
              "      <td>79.628713</td>\n",
              "      <td>36.946535</td>\n",
              "      <td>0.470297</td>\n",
              "      <td>0.490099</td>\n",
              "      <td>0.514851</td>\n",
              "    </tr>\n",
              "    <tr>\n",
              "      <th>std</th>\n",
              "      <td>27.067165</td>\n",
              "      <td>1.710516</td>\n",
              "      <td>4.722797</td>\n",
              "      <td>20.504595</td>\n",
              "      <td>11.959541</td>\n",
              "      <td>1.452297</td>\n",
              "      <td>0.500357</td>\n",
              "      <td>0.501144</td>\n",
              "      <td>0.501021</td>\n",
              "    </tr>\n",
              "    <tr>\n",
              "      <th>min</th>\n",
              "      <td>0.000000</td>\n",
              "      <td>0.000000</td>\n",
              "      <td>85.000000</td>\n",
              "      <td>90.000000</td>\n",
              "      <td>60.000000</td>\n",
              "      <td>33.000000</td>\n",
              "      <td>0.000000</td>\n",
              "      <td>0.000000</td>\n",
              "      <td>0.000000</td>\n",
              "    </tr>\n",
              "    <tr>\n",
              "      <th>25%</th>\n",
              "      <td>20.000000</td>\n",
              "      <td>1.000000</td>\n",
              "      <td>89.000000</td>\n",
              "      <td>106.250000</td>\n",
              "      <td>70.000000</td>\n",
              "      <td>36.000000</td>\n",
              "      <td>0.000000</td>\n",
              "      <td>0.000000</td>\n",
              "      <td>0.000000</td>\n",
              "    </tr>\n",
              "    <tr>\n",
              "      <th>50%</th>\n",
              "      <td>43.500000</td>\n",
              "      <td>2.000000</td>\n",
              "      <td>93.000000</td>\n",
              "      <td>126.000000</td>\n",
              "      <td>79.000000</td>\n",
              "      <td>36.900000</td>\n",
              "      <td>0.000000</td>\n",
              "      <td>0.000000</td>\n",
              "      <td>1.000000</td>\n",
              "    </tr>\n",
              "    <tr>\n",
              "      <th>75%</th>\n",
              "      <td>64.000000</td>\n",
              "      <td>4.000000</td>\n",
              "      <td>97.000000</td>\n",
              "      <td>142.750000</td>\n",
              "      <td>90.000000</td>\n",
              "      <td>37.875000</td>\n",
              "      <td>1.000000</td>\n",
              "      <td>1.000000</td>\n",
              "      <td>1.000000</td>\n",
              "    </tr>\n",
              "    <tr>\n",
              "      <th>max</th>\n",
              "      <td>89.000000</td>\n",
              "      <td>5.000000</td>\n",
              "      <td>100.000000</td>\n",
              "      <td>160.000000</td>\n",
              "      <td>100.000000</td>\n",
              "      <td>40.400000</td>\n",
              "      <td>1.000000</td>\n",
              "      <td>1.000000</td>\n",
              "      <td>1.000000</td>\n",
              "    </tr>\n",
              "  </tbody>\n",
              "</table>\n",
              "</div>"
            ],
            "text/plain": [
              "             edad  horas_espera  ...    sangrado   accidente\n",
              "count  202.000000    202.000000  ...  202.000000  202.000000\n",
              "mean    42.717822      2.455446  ...    0.490099    0.514851\n",
              "std     27.067165      1.710516  ...    0.501144    0.501021\n",
              "min      0.000000      0.000000  ...    0.000000    0.000000\n",
              "25%     20.000000      1.000000  ...    0.000000    0.000000\n",
              "50%     43.500000      2.000000  ...    0.000000    1.000000\n",
              "75%     64.000000      4.000000  ...    1.000000    1.000000\n",
              "max     89.000000      5.000000  ...    1.000000    1.000000\n",
              "\n",
              "[8 rows x 9 columns]"
            ]
          },
          "metadata": {},
          "execution_count": 10
        }
      ]
    },
    {
      "cell_type": "markdown",
      "metadata": {
        "id": "dltSoOohBedK"
      },
      "source": [
        "# Feature Selection (Selección de características)"
      ]
    },
    {
      "cell_type": "markdown",
      "metadata": {
        "id": "DliRn3EQBkjb"
      },
      "source": [
        "En vez de utilizar las 10 columnas de datos de entrada, se utilizará una Clase de SkLearn llamada SelectKBest con la que se seleccionarán las 5 mejores características y sólo se usarán esas."
      ]
    },
    {
      "cell_type": "code",
      "metadata": {
        "colab": {
          "base_uri": "https://localhost:8080/"
        },
        "id": "jbexsy-aB8mw",
        "outputId": "98c6690b-ec95-43f1-9e7b-b3e5d75a6ce1"
      },
      "source": [
        "X=df.drop(['atencion'], axis=1)\n",
        "y=df['atencion']\n",
        "\n",
        "#Selección de las 5 mejores características\n",
        "best=SelectKBest(k=5)\n",
        "X_new = best.fit_transform(X, y)\n",
        "X_new.shape\n",
        "selected = best.get_support(indices=True)\n",
        "print(X.columns[selected])"
      ],
      "execution_count": 11,
      "outputs": [
        {
          "output_type": "stream",
          "name": "stdout",
          "text": [
            "Index(['presion_sist', 'presion_diast', 'conciencia', 'sangrado', 'accidente'], dtype='object')\n"
          ]
        }
      ]
    },
    {
      "cell_type": "markdown",
      "metadata": {
        "id": "DkE4KKVXCUy9"
      },
      "source": [
        "La selección anterior muestra que presion_sist, presion_diast, conciencia, sangrado y accidente son los 5 datos que más importan. De esto se verá su grado de correlación"
      ]
    },
    {
      "cell_type": "code",
      "metadata": {
        "colab": {
          "base_uri": "https://localhost:8080/",
          "height": 705
        },
        "id": "fPc4leIqCoW5",
        "outputId": "d8410baf-adbc-4ff7-af11-2f79ef5433d3"
      },
      "source": [
        "used_features =X.columns[selected]\n",
        "\n",
        "colormap = plt.cm.viridis\n",
        "plt.figure(figsize=(12,12))\n",
        "plt.title('Pearson Correlation of Features', y=1.05, size=15)\n",
        "sb.heatmap(df[used_features].astype(float).corr(),linewidths=0.1,vmax=1.0, square=True, cmap=colormap, linecolor='white', annot=True)"
      ],
      "execution_count": 12,
      "outputs": [
        {
          "output_type": "execute_result",
          "data": {
            "text/plain": [
              "<matplotlib.axes._subplots.AxesSubplot at 0x7fdc7147a4d0>"
            ]
          },
          "metadata": {},
          "execution_count": 12
        },
        {
          "output_type": "display_data",
          "data": {
            "image/png": "[encoded data removed]",
            "text/plain": [
              "<Figure size 864x864 with 2 Axes>"
            ]
          },
          "metadata": {
            "needs_background": "light"
          }
        }
      ]
    },
    {
      "cell_type": "markdown",
      "metadata": {
        "id": "VJBmnuLLC38R"
      },
      "source": [
        "Se puede ver que los datos presentan una correlación muy baja (0,08 es lo \"más alto\")"
      ]
    },
    {
      "cell_type": "markdown",
      "metadata": {
        "id": "tMFg4H4TDNcj"
      },
      "source": [
        "# Crear el modelo Gaussian Naive Bayes con SKLearn"
      ]
    },
    {
      "cell_type": "markdown",
      "metadata": {
        "id": "qr8O253rDRG7"
      },
      "source": [
        "Primero dividir los datos en training set y test set"
      ]
    },
    {
      "cell_type": "code",
      "metadata": {
        "id": "ij9wb1GrDa1G"
      },
      "source": [
        "# Split dataset in training and test datasets\n",
        "X_train, X_test = train_test_split(df, test_size=0.2, random_state=6) \n",
        "y_train =X_train[\"atencion\"]\n",
        "y_test = X_test[\"atencion\"]"
      ],
      "execution_count": 13,
      "outputs": []
    },
    {
      "cell_type": "markdown",
      "metadata": {
        "id": "LjtJhlLHDjrC"
      },
      "source": [
        "Se crea el modelo, se pone a aprender con fit() y se obtienen predicciones sobre el conjunto de test."
      ]
    },
    {
      "cell_type": "code",
      "metadata": {
        "colab": {
          "base_uri": "https://localhost:8080/"
        },
        "id": "A0MLJHOjDqkt",
        "outputId": "edd6c02a-d676-4406-e07f-5fba5ad52e75"
      },
      "source": [
        "# Instantiate the classifier\n",
        "gnb = GaussianNB()\n",
        "# Train classifier\n",
        "gnb.fit(\n",
        "    X_train[used_features].values,\n",
        "    y_train\n",
        ")\n",
        "\n",
        "y_pred = gnb.predict(X_test[used_features])\n",
        "\n",
        "print('Precisión en el set de Entrenamiento: {:.2f}'\n",
        "     .format(gnb.score(X_train[used_features], y_train)))\n",
        "print('Precisión en el set de Test: {:.2f}'\n",
        "     .format(gnb.score(X_test[used_features], y_test)))"
      ],
      "execution_count": 14,
      "outputs": [
        {
          "output_type": "stream",
          "name": "stdout",
          "text": [
            "Precisión en el set de Entrenamiento: 0.90\n",
            "Precisión en el set de Test: 0.88\n"
          ]
        }
      ]
    },
    {
      "cell_type": "markdown",
      "metadata": {
        "id": "CAPYeD-qD2L4"
      },
      "source": [
        "Se ha obtenido un 88% de precisión en el test set con el clasificador bayesiano"
      ]
    },
    {
      "cell_type": "markdown",
      "metadata": {
        "id": "4hnYmFNQEBRq"
      },
      "source": [
        "# Uso del modelo"
      ]
    },
    {
      "cell_type": "code",
      "metadata": {
        "colab": {
          "base_uri": "https://localhost:8080/"
        },
        "id": "ugxznkFQEJaH",
        "outputId": "6449c12d-bf8a-40c5-c99b-ab782bef6b60"
      },
      "source": [
        "presion_sist=float(input(\"¿Cuál es la presión sistólica del paciente?: \"))\n",
        "presion_diast=float(input(\"¿Cuál es la presión diastólica del paciente?: \"))\n",
        "conciencia=float(input(\"¿El paciente viene conciente? 0-no // 1-si: \"))\n",
        "sangrado=float(input(\"¿El paciente viene sangrando abundantemente? 0-no // 1-si: \"))\n",
        "accidente=float(input(\"¿El paciente viene a emergencia en ambulancia? 0-no // 1-si: \"))\n",
        "\n",
        "resultado = gnb.predict([[presion_sist,        presion_diast,     conciencia,       sangrado,         accidente]])\n",
        "\n",
        "print(\"---------------\")\n",
        "\n",
        "if (resultado[0]==0):\n",
        "  print(\"El paciente puede esperar un tiempo más\")\n",
        "else:\n",
        "  print(\"Se recomienda atender inmediatamente al paciente\")"
      ],
      "execution_count": 16,
      "outputs": [
        {
          "output_type": "stream",
          "name": "stdout",
          "text": [
            "¿Cuál es la presión sistólica del paciente?: 120\n",
            "¿Cuál es la presión diastólica del paciente?: 80\n",
            "¿El paciente viene conciente? 0-no // 1-si: 1\n",
            "¿El paciente viene sangrando abundantemente? 0-no // 1-si: 0\n",
            "¿El paciente viene a emergencia en ambulancia? 0-no // 1-si: 0\n",
            "---------------\n",
            "El paciente puede esperar un tiempo más\n"
          ]
        }
      ]
    }
  ]
}